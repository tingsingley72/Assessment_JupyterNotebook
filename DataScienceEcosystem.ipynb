{
 "cells": [
  {
   "cell_type": "code",
   "execution_count": null,
   "id": "faa255c9",
   "metadata": {},
   "outputs": [],
   "source": [
    "## In this notebook, Data Science Tools and Ecosystem are summarized."
   ]
  },
  {
   "cell_type": "code",
   "execution_count": null,
   "id": "f4831c8b",
   "metadata": {},
   "outputs": [],
   "source": [
    "# Data Science Tools and Ecosystem"
   ]
  },
  {
   "cell_type": "code",
   "execution_count": null,
   "id": "2a81e917",
   "metadata": {},
   "outputs": [],
   "source": [
    "## In this notebook, Data Science Tools and Ecosystem are summarized."
   ]
  },
  {
   "cell_type": "code",
   "execution_count": null,
   "id": "8f6bc7e8",
   "metadata": {},
   "outputs": [],
   "source": [
    "## Some of the popular languages that Data Scientists use are:\n",
    "1. Python\n",
    "2. R\n",
    "3. SQL\n",
    "4. Scala\n",
    "5. Java\n",
    "6. C++\n",
    "7. Julia"
   ]
  },
  {
   "cell_type": "code",
   "execution_count": null,
   "id": "d2c5794e",
   "metadata": {},
   "outputs": [],
   "source": [
    "## Some of the commonly used libraries used by Data Scientists include:\n",
    "1. Pandas\n",
    "2. Matplotlib\n",
    "3. Scikit-learn\n",
    "4. TensorFlow"
   ]
  },
  {
   "cell_type": "code",
   "execution_count": null,
   "id": "dbb90907",
   "metadata": {},
   "outputs": [],
   "source": [
    "|Data Science Tools|\n",
    "|------------------|\n",
    "|VS Code|\n",
    "|JupyterLab|\n",
    "|JupyterLite|"
   ]
  },
  {
   "cell_type": "code",
   "execution_count": null,
   "id": "3bb2b9cc",
   "metadata": {},
   "outputs": [],
   "source": [
    "### Below are a few examples of evaluating arithmetic expressions in Python"
   ]
  },
  {
   "cell_type": "code",
   "execution_count": 1,
   "id": "2323175f",
   "metadata": {},
   "outputs": [
    {
     "data": {
      "text/plain": [
       "17"
      ]
     },
     "execution_count": 1,
     "metadata": {},
     "output_type": "execute_result"
    }
   ],
   "source": [
    "# This a simple arithmetic expression to mutiply then add integers\n",
    "(3*4)+5"
   ]
  },
  {
   "cell_type": "code",
   "execution_count": 3,
   "id": "74d7c502",
   "metadata": {},
   "outputs": [
    {
     "data": {
      "text/plain": [
       "3.3333333333333335"
      ]
     },
     "execution_count": 3,
     "metadata": {},
     "output_type": "execute_result"
    }
   ],
   "source": [
    "# This will convert 200 minutes to hours by diving by 60\n",
    "\n",
    "def convert_hr(minutes):\n",
    "    hr = minutes/60\n",
    "    return hr\n",
    "\n",
    "convert_hr(200)"
   ]
  },
  {
   "cell_type": "code",
   "execution_count": null,
   "id": "e2f8e821",
   "metadata": {},
   "outputs": [],
   "source": [
    "## In this notebook, Data Science Tools and Ecosystem are summarized.\n",
    "**Objectives**\n",
    "\n",
    "- List examples of Open Source, Commercial, and Cloud-based tools in various categories\n",
    "- Review commonly used languages that are available in data science\n",
    "- Learn about libraries that contain built-in modules providing different functionalities\n",
    "- Learn about Project Jupyter - one of the most commonly used environments among data scientists"
   ]
  },
  {
   "cell_type": "code",
   "execution_count": null,
   "id": "bdb4df31",
   "metadata": {},
   "outputs": [],
   "source": [
    "## Author\n",
    "Ting Singley"
   ]
  }
 ],
 "metadata": {
  "kernelspec": {
   "display_name": "Python 3 (ipykernel)",
   "language": "python",
   "name": "python3"
  },
  "language_info": {
   "codemirror_mode": {
    "name": "ipython",
    "version": 3
   },
   "file_extension": ".py",
   "mimetype": "text/x-python",
   "name": "python",
   "nbconvert_exporter": "python",
   "pygments_lexer": "ipython3",
   "version": "3.9.16"
  }
 },
 "nbformat": 4,
 "nbformat_minor": 5
}
